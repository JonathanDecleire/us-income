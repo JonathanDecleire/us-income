{
 "cells": [
  {
   "cell_type": "code",
   "execution_count": 2,
   "metadata": {},
   "outputs": [],
   "source": [
    "# linear algebra\n",
    "import numpy as np\n",
    "\n",
    "# data processing\n",
    "import pandas as pd\n",
    "\n",
    "# data visualization\n",
    "import matplotlib.pyplot as plt\n",
    "import seaborn as sns\n",
    "%matplotlib inline\n",
    "\n",
    "# algorithms\n",
    "from sklearn.ensemble import RandomForestClassifier\n",
    "\n",
    "# https://towardsdatascience.com/evaluation-metrics-for-classification-cdea775c97d4\n",
    "# https://towardsdatascience.com/beyond-accuracy-precision-and-recall-3da06bea9f6c"
   ]
  },
  {
   "cell_type": "code",
   "execution_count": 3,
   "metadata": {},
   "outputs": [],
   "source": [
    "train_df = pd.read_csv('C:/Users/ACER/Desktop/pull github repo/LIE-Thomas-1.26/content/additional_resources/datasets/US Income/cleaned/data_train.csv')\n",
    "\n",
    "df = train_df.copy()\n"
   ]
  },
  {
   "cell_type": "code",
   "execution_count": 6,
   "metadata": {},
   "outputs": [
    {
     "name": "stdout",
     "output_type": "stream",
     "text": [
      "Random Forests accuracy 0.8518347919545525\n"
     ]
    }
   ],
   "source": [
    "X = df.drop('income', axis=1)\n",
    "y= df['income']\n",
    "\n",
    "from sklearn.model_selection import train_test_split\n",
    "\n",
    "X_train, X_test, y_train, y_test = train_test_split(X, y, test_size=0.2, random_state=0)\n",
    "\n",
    "from sklearn.ensemble import RandomForestClassifier\n",
    "\n",
    "clf = RandomForestClassifier(n_estimators=100, random_state=24)\n",
    "clf.fit(X_train, y_train)\n",
    "\n",
    "y_pred = clf.predict(X_test)\n",
    "from sklearn.metrics import accuracy_score\n",
    "\n",
    "# Baseline accuracy model\n",
    "print(\"Random Forests accuracy\", accuracy_score(y_test, y_pred))"
   ]
  },
  {
   "cell_type": "code",
   "execution_count": null,
   "metadata": {},
   "outputs": [],
   "source": []
  },
  {
   "cell_type": "code",
   "execution_count": null,
   "metadata": {},
   "outputs": [],
   "source": [
    "# Multiple evaluation metrics"
   ]
  },
  {
   "cell_type": "code",
   "execution_count": null,
   "metadata": {},
   "outputs": [],
   "source": []
  },
  {
   "cell_type": "code",
   "execution_count": 9,
   "metadata": {},
   "outputs": [
    {
     "name": "stdout",
     "output_type": "stream",
     "text": [
      "Precision: 0.7467282525019245\n",
      "Recall: 0.6211975664425232\n"
     ]
    }
   ],
   "source": [
    "# Precision and recall\n",
    "'''\n",
    "Precision metric represents the probability of the model being correct \n",
    "out of all the times the model said yes.\n",
    "Recall metric represents the ability of a model to find all the relevant\n",
    "cases within a dataset.\n",
    "'''\n",
    "\n",
    "from sklearn.model_selection import cross_val_predict\n",
    "from sklearn.metrics import precision_score, recall_score\n",
    "\n",
    "predictions = cross_val_predict(clf, X_train, y_train, cv=3)\n",
    "\n",
    "print('Precision:', precision_score(y_train, predictions))\n",
    "print('Recall:', recall_score(y_train, predictions))"
   ]
  },
  {
   "cell_type": "code",
   "execution_count": 12,
   "metadata": {},
   "outputs": [
    {
     "name": "stdout",
     "output_type": "stream",
     "text": [
      "F1 score: 0.6782031113441706\n"
     ]
    }
   ],
   "source": [
    "# F1 score\n",
    "\n",
    "from sklearn.metrics import f1_score\n",
    "print(\"F1 score:\", f1_score(y_train, predictions))"
   ]
  },
  {
   "cell_type": "code",
   "execution_count": 11,
   "metadata": {},
   "outputs": [
    {
     "name": "stdout",
     "output_type": "stream",
     "text": [
      "Random Forests accuracy 0.8518347919545525\n"
     ]
    }
   ],
   "source": [
    "# Accuracy\n",
    "\n",
    "print(\"Random Forests accuracy\", accuracy_score(y_test, y_pred))"
   ]
  },
  {
   "cell_type": "code",
   "execution_count": 18,
   "metadata": {},
   "outputs": [
    {
     "name": "stdout",
     "output_type": "stream",
     "text": [
      "Specificity score: 0.9265961773078487\n",
      "92.65961773078487 % of all negative cases will be predicted correctly\n"
     ]
    }
   ],
   "source": [
    "# Specificity\n",
    "'''\n",
    "Sensitivity of predicting the negative cases.\n",
    "Probability of predicting negatives out of all negative cases.\n",
    "'''\n",
    "\n",
    "from sklearn.metrics import confusion_matrix\n",
    "\n",
    "def specificity_score(y_test, y_pred):\n",
    "    cm = confusion_matrix(y_test, y_pred)\n",
    "    return cm[0, 0] / (cm[0, 0] + cm[0, 1])\n",
    "\n",
    "print(\"Specificity score:\", specificity_score(y_test, y_pred))\n",
    "print(specificity_score(y_test, y_pred) *100, \"% of all negative cases will be predicted correctly\")"
   ]
  },
  {
   "cell_type": "code",
   "execution_count": null,
   "metadata": {},
   "outputs": [],
   "source": []
  },
  {
   "cell_type": "code",
   "execution_count": null,
   "metadata": {},
   "outputs": [],
   "source": [
    "# Hyper parameter tuning"
   ]
  },
  {
   "cell_type": "code",
   "execution_count": null,
   "metadata": {},
   "outputs": [],
   "source": [
    "from sklearn.ensemble import RandomForestClassifier\n",
    "from sklearn.metrics import accuracy_score\n",
    "from sklearn.model_selection import RandomizedSearchCV, GridSearchCV, KFold\n",
    "\n",
    "n_estimators = np.arange(100, 1000, 100)\n",
    "max_features = np.arange(1, 10, 1)\n",
    "min_samples_leaf = np.arange(2, 10, 1)\n",
    "kfold = KFold(n_splits = 3)\n",
    "start_grid = {\n",
    "    'n_estimators': n_estimators,\n",
    "    'max_features': max_features,\n",
    "    'min_samples_leaf': min_samples_leaf,\n",
    "    }\n",
    "\n",
    "rf = RandomForestClassifier()\n",
    "\n",
    "test_rf = RandomizedSearchCV(estimator=rf, param_distributions=start_grid, cv=kfold)\n",
    "print(start_grid)"
   ]
  },
  {
   "cell_type": "code",
   "execution_count": null,
   "metadata": {},
   "outputs": [],
   "source": [
    "for n, m,s in start_grid.items():\n",
    "    final_model = RandomForestClassifier(n_estimators=n,min_samples_leaf=m, max_features=s, random_state=24)\n",
    "    final_model.fit(X_train, y_train)\n",
    "    predictions = final_model.predict(X_test)\n",
    "    print(accuracy_score(y_test, predictions))"
   ]
  },
  {
   "cell_type": "code",
   "execution_count": 20,
   "metadata": {},
   "outputs": [
    {
     "name": "stdout",
     "output_type": "stream",
     "text": [
      "0.8592046675879011\n"
     ]
    }
   ],
   "source": [
    "final_model = RandomForestClassifier(n_estimators=450, min_samples_leaf=2, max_features=3, random_state=24)\n",
    "final_model.fit(X_train, y_train)\n",
    "\n",
    "predictions = final_model.predict(X_test)\n",
    "print(accuracy_score(y_test, predictions))"
   ]
  },
  {
   "cell_type": "code",
   "execution_count": null,
   "metadata": {},
   "outputs": [],
   "source": []
  },
  {
   "cell_type": "code",
   "execution_count": null,
   "metadata": {},
   "outputs": [],
   "source": []
  },
  {
   "cell_type": "code",
   "execution_count": null,
   "metadata": {},
   "outputs": [],
   "source": [
    "# Validation strategies"
   ]
  },
  {
   "cell_type": "code",
   "execution_count": null,
   "metadata": {},
   "outputs": [],
   "source": []
  },
  {
   "cell_type": "code",
   "execution_count": 19,
   "metadata": {},
   "outputs": [
    {
     "name": "stdout",
     "output_type": "stream",
     "text": [
      "Scores: [0.85988484 0.86564299 0.86487524 0.85834933 0.86602687 0.85143954\n",
      " 0.85834933 0.8571977  0.85023041 0.86328725]\n",
      "Mean: 0.859528350006339\n",
      "Standard Deviation: 0.005315617448158119\n"
     ]
    }
   ],
   "source": [
    "# K-Fold cross validation:\n",
    "\n",
    "from sklearn.model_selection import cross_val_score\n",
    "\n",
    "scores = cross_val_score(clf, X_train, y_train, cv=10, scoring = \"accuracy\")\n",
    "\n",
    "print(\"Scores:\", scores)\n",
    "print(\"Mean:\", scores.mean())\n",
    "print(\"Standard Deviation:\", scores.std())"
   ]
  },
  {
   "cell_type": "code",
   "execution_count": null,
   "metadata": {},
   "outputs": [],
   "source": [
    "# Random Search Cross Validation\n",
    "\n",
    "from sklearn.linear_model import LogisticRegression\n",
    "from sklearn.model_selection import RandomizedSearchCV\n",
    "from scipy.stats import uniform\n",
    "\n",
    "logistic = LogisticRegression(solver=)"
   ]
  }
 ],
 "metadata": {
  "kernelspec": {
   "display_name": "myvirtualenv",
   "language": "python",
   "name": "myvirtualenv"
  },
  "language_info": {
   "codemirror_mode": {
    "name": "ipython",
    "version": 3
   },
   "file_extension": ".py",
   "mimetype": "text/x-python",
   "name": "python",
   "nbconvert_exporter": "python",
   "pygments_lexer": "ipython3",
   "version": "3.8.5"
  }
 },
 "nbformat": 4,
 "nbformat_minor": 4
}
